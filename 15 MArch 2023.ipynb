{
 "cells": [
  {
   "cell_type": "markdown",
   "id": "76b4d728",
   "metadata": {},
   "source": [
    "# Python – Least Frequent Character in String"
   ]
  },
  {
   "cell_type": "code",
   "execution_count": 54,
   "id": "6f3b876b",
   "metadata": {},
   "outputs": [],
   "source": [
    "my_string = \"GeeksforGeeksoo\"\n",
    "my_string_frequncy = []\n",
    "for k in my_string:\n",
    "    sum = 0\n",
    "    for i in my_string:\n",
    "        if k == i:\n",
    "            sum += 1\n",
    "    my_string_frequncy.append([k, sum])"
   ]
  },
  {
   "cell_type": "code",
   "execution_count": 55,
   "id": "2660496a",
   "metadata": {},
   "outputs": [
    {
     "data": {
      "text/plain": [
       "[['G', 2],\n",
       " ['e', 4],\n",
       " ['e', 4],\n",
       " ['k', 2],\n",
       " ['s', 2],\n",
       " ['f', 1],\n",
       " ['o', 3],\n",
       " ['r', 1],\n",
       " ['G', 2],\n",
       " ['e', 4],\n",
       " ['e', 4],\n",
       " ['k', 2],\n",
       " ['s', 2],\n",
       " ['o', 3],\n",
       " ['o', 3]]"
      ]
     },
     "execution_count": 55,
     "metadata": {},
     "output_type": "execute_result"
    }
   ],
   "source": [
    "my_string_frequncy"
   ]
  },
  {
   "cell_type": "code",
   "execution_count": 56,
   "id": "f3ecde62",
   "metadata": {},
   "outputs": [],
   "source": [
    "for k in range(len(my_string_frequncy)):\n",
    "    for j in range(len(my_string_frequncy)):\n",
    "        if  k != j and my_string_frequncy[k] == my_string_frequncy[j]:\n",
    "            my_string_frequncy[j] = \"d\""
   ]
  },
  {
   "cell_type": "code",
   "execution_count": 57,
   "id": "4da82231",
   "metadata": {},
   "outputs": [
    {
     "data": {
      "text/plain": [
       "[['G', 2],\n",
       " ['e', 4],\n",
       " 'd',\n",
       " ['k', 2],\n",
       " ['s', 2],\n",
       " ['f', 1],\n",
       " ['o', 3],\n",
       " ['r', 1],\n",
       " 'd',\n",
       " 'd',\n",
       " 'd',\n",
       " 'd',\n",
       " 'd',\n",
       " 'd',\n",
       " 'd']"
      ]
     },
     "execution_count": 57,
     "metadata": {},
     "output_type": "execute_result"
    }
   ],
   "source": [
    "my_string_frequncy"
   ]
  },
  {
   "cell_type": "code",
   "execution_count": 58,
   "id": "6b4dfd37",
   "metadata": {},
   "outputs": [],
   "source": [
    "my_new_string_frequency = []\n",
    "for k  in my_string_frequncy:\n",
    "    if  k != \"d\" :\n",
    "        my_new_string_frequency.append(k)"
   ]
  },
  {
   "cell_type": "code",
   "execution_count": 59,
   "id": "176afea8",
   "metadata": {},
   "outputs": [
    {
     "data": {
      "text/plain": [
       "[['G', 2], ['e', 4], ['k', 2], ['s', 2], ['f', 1], ['o', 3], ['r', 1]]"
      ]
     },
     "execution_count": 59,
     "metadata": {},
     "output_type": "execute_result"
    }
   ],
   "source": [
    "my_new_string_frequency"
   ]
  },
  {
   "cell_type": "code",
   "execution_count": 60,
   "id": "bfd12521",
   "metadata": {},
   "outputs": [],
   "source": [
    "for k in range(len(my_new_string_frequency)):\n",
    "    for j in range(len(my_new_string_frequency)):\n",
    "        if my_new_string_frequency[k][1] < my_new_string_frequency[j][1]:\n",
    "            my_new_string_frequency[k], my_new_string_frequency[j] = my_new_string_frequency[j], my_new_string_frequency[k]"
   ]
  },
  {
   "cell_type": "code",
   "execution_count": 61,
   "id": "a24029a9",
   "metadata": {},
   "outputs": [
    {
     "data": {
      "text/plain": [
       "[['f', 1], ['r', 1], ['s', 2], ['G', 2], ['k', 2], ['o', 3], ['e', 4]]"
      ]
     },
     "execution_count": 61,
     "metadata": {},
     "output_type": "execute_result"
    }
   ],
   "source": [
    "my_new_string_frequency"
   ]
  },
  {
   "cell_type": "code",
   "execution_count": 62,
   "id": "94baaa34",
   "metadata": {},
   "outputs": [
    {
     "name": "stdout",
     "output_type": "stream",
     "text": [
      "1\n"
     ]
    }
   ],
   "source": [
    "print(my_new_string_frequency[0][1])"
   ]
  },
  {
   "cell_type": "code",
   "execution_count": 63,
   "id": "2a13063e",
   "metadata": {},
   "outputs": [
    {
     "name": "stdout",
     "output_type": "stream",
     "text": [
      "['f', 1]\n",
      "['r', 1]\n"
     ]
    }
   ],
   "source": [
    "# least frequency word\n",
    "least_frequency = my_new_string_frequency[0][1]\n",
    "for k in my_new_string_frequency:\n",
    "    if k[1] == least_frequency:\n",
    "        print(k)\n",
    "    "
   ]
  },
  {
   "cell_type": "markdown",
   "id": "f16b36ef",
   "metadata": {},
   "source": [
    "# Python | Maximum frequency character in String"
   ]
  },
  {
   "cell_type": "code",
   "execution_count": 64,
   "id": "fdb2a93e",
   "metadata": {},
   "outputs": [
    {
     "name": "stdout",
     "output_type": "stream",
     "text": [
      "['e', 4]\n"
     ]
    }
   ],
   "source": [
    "#most frequency word\n",
    "most_frequency = my_new_string_frequency[len(my_new_string_frequency)-1][1]\n",
    "for i in my_new_string_frequency:\n",
    "    if i[1] == most_frequency:\n",
    "        print(i)"
   ]
  },
  {
   "cell_type": "markdown",
   "id": "401ee82f",
   "metadata": {},
   "source": [
    "# Python – Odd Frequency Characters"
   ]
  },
  {
   "cell_type": "code",
   "execution_count": 65,
   "id": "42fc0177",
   "metadata": {},
   "outputs": [
    {
     "name": "stdout",
     "output_type": "stream",
     "text": [
      "['f', 1]\n",
      "['r', 1]\n",
      "['o', 3]\n"
     ]
    }
   ],
   "source": [
    "#most frequency word\n",
    "for i in my_new_string_frequency:\n",
    "#     print(i[1])\n",
    "    if i[1] % 2 != 0:\n",
    "        print(i)"
   ]
  },
  {
   "cell_type": "markdown",
   "id": "5ca88b47",
   "metadata": {},
   "source": [
    "# Python – Specific Characters Frequency in String List"
   ]
  },
  {
   "cell_type": "code",
   "execution_count": 78,
   "id": "93a70feb",
   "metadata": {},
   "outputs": [],
   "source": [
    "test_list = \"geeksforgeeks is best for geeks\" \n",
    "chr_list = [\"e\", \"b\", \"g\", \"f\"] \n",
    "frequency_test_list = []\n",
    "for k in test_list:\n",
    "    sum = 0\n",
    "    for j in test_list:\n",
    "        if  k == j:\n",
    "            sum += 1\n",
    "    frequency_test_list.append([k, sum])"
   ]
  },
  {
   "cell_type": "code",
   "execution_count": 79,
   "id": "c39338f6",
   "metadata": {},
   "outputs": [
    {
     "data": {
      "text/plain": [
       "[['g', 3],\n",
       " ['e', 7],\n",
       " ['e', 7],\n",
       " ['k', 3],\n",
       " ['s', 5],\n",
       " ['f', 2],\n",
       " ['o', 2],\n",
       " ['r', 2],\n",
       " ['g', 3],\n",
       " ['e', 7],\n",
       " ['e', 7],\n",
       " ['k', 3],\n",
       " ['s', 5],\n",
       " [' ', 4],\n",
       " ['i', 1],\n",
       " ['s', 5],\n",
       " [' ', 4],\n",
       " ['b', 1],\n",
       " ['e', 7],\n",
       " ['s', 5],\n",
       " ['t', 1],\n",
       " [' ', 4],\n",
       " ['f', 2],\n",
       " ['o', 2],\n",
       " ['r', 2],\n",
       " [' ', 4],\n",
       " ['g', 3],\n",
       " ['e', 7],\n",
       " ['e', 7],\n",
       " ['k', 3],\n",
       " ['s', 5]]"
      ]
     },
     "execution_count": 79,
     "metadata": {},
     "output_type": "execute_result"
    }
   ],
   "source": [
    "frequency_test_list"
   ]
  },
  {
   "cell_type": "code",
   "execution_count": 80,
   "id": "130db1a8",
   "metadata": {},
   "outputs": [],
   "source": [
    "for k in range(len(frequency_test_list)):\n",
    "    for j in range(len(frequency_test_list)):\n",
    "        if frequency_test_list[k] == frequency_test_list[j] and k != j:\n",
    "            frequency_test_list[j] = \"d\""
   ]
  },
  {
   "cell_type": "code",
   "execution_count": 81,
   "id": "4f6fc945",
   "metadata": {},
   "outputs": [
    {
     "data": {
      "text/plain": [
       "[['g', 3],\n",
       " ['e', 7],\n",
       " 'd',\n",
       " ['k', 3],\n",
       " ['s', 5],\n",
       " ['f', 2],\n",
       " ['o', 2],\n",
       " ['r', 2],\n",
       " 'd',\n",
       " 'd',\n",
       " 'd',\n",
       " 'd',\n",
       " 'd',\n",
       " [' ', 4],\n",
       " ['i', 1],\n",
       " 'd',\n",
       " 'd',\n",
       " ['b', 1],\n",
       " 'd',\n",
       " 'd',\n",
       " ['t', 1],\n",
       " 'd',\n",
       " 'd',\n",
       " 'd',\n",
       " 'd',\n",
       " 'd',\n",
       " 'd',\n",
       " 'd',\n",
       " 'd',\n",
       " 'd',\n",
       " 'd']"
      ]
     },
     "execution_count": 81,
     "metadata": {},
     "output_type": "execute_result"
    }
   ],
   "source": [
    "frequency_test_list"
   ]
  },
  {
   "cell_type": "code",
   "execution_count": 82,
   "id": "c41c1dab",
   "metadata": {},
   "outputs": [],
   "source": [
    "new_frequency_list = []\n",
    "for k in frequency_test_list:\n",
    "    if k != \"d\" and k[0] != \" \":\n",
    "        new_frequency_list.append(k)"
   ]
  },
  {
   "cell_type": "code",
   "execution_count": 83,
   "id": "93bf7f8e",
   "metadata": {},
   "outputs": [
    {
     "data": {
      "text/plain": [
       "[['g', 3],\n",
       " ['e', 7],\n",
       " ['k', 3],\n",
       " ['s', 5],\n",
       " ['f', 2],\n",
       " ['o', 2],\n",
       " ['r', 2],\n",
       " ['i', 1],\n",
       " ['b', 1],\n",
       " ['t', 1]]"
      ]
     },
     "execution_count": 83,
     "metadata": {},
     "output_type": "execute_result"
    }
   ],
   "source": [
    "new_frequency_list"
   ]
  },
  {
   "cell_type": "code",
   "execution_count": 84,
   "id": "d5142fea",
   "metadata": {},
   "outputs": [
    {
     "data": {
      "text/plain": [
       "['e', 'b', 'g', 'f']"
      ]
     },
     "execution_count": 84,
     "metadata": {},
     "output_type": "execute_result"
    }
   ],
   "source": [
    "chr_list"
   ]
  },
  {
   "cell_type": "code",
   "execution_count": 85,
   "id": "a95e742a",
   "metadata": {},
   "outputs": [
    {
     "name": "stdout",
     "output_type": "stream",
     "text": [
      "['e', 7]\n",
      "['b', 1]\n",
      "['g', 3]\n",
      "['f', 2]\n"
     ]
    }
   ],
   "source": [
    "for k in chr_list:\n",
    "    for j in new_frequency_list:\n",
    "        if k == j[0]:\n",
    "            print(j)"
   ]
  },
  {
   "cell_type": "code",
   "execution_count": null,
   "id": "7f54d631",
   "metadata": {},
   "outputs": [],
   "source": []
  },
  {
   "cell_type": "code",
   "execution_count": null,
   "id": "2b002d36",
   "metadata": {},
   "outputs": [],
   "source": []
  },
  {
   "cell_type": "code",
   "execution_count": null,
   "id": "ebc71e5e",
   "metadata": {},
   "outputs": [],
   "source": []
  }
 ],
 "metadata": {
  "kernelspec": {
   "display_name": "Python 3 (ipykernel)",
   "language": "python",
   "name": "python3"
  },
  "language_info": {
   "codemirror_mode": {
    "name": "ipython",
    "version": 3
   },
   "file_extension": ".py",
   "mimetype": "text/x-python",
   "name": "python",
   "nbconvert_exporter": "python",
   "pygments_lexer": "ipython3",
   "version": "3.11.0"
  }
 },
 "nbformat": 4,
 "nbformat_minor": 5
}
